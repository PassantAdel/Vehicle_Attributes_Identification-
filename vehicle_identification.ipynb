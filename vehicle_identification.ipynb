{
  "cells": [
    {
      "cell_type": "markdown",
      "metadata": {
        "id": "wVoosCgi24IE"
      },
      "source": [
        "# requirements"
      ]
    },
    {
      "cell_type": "code",
      "execution_count": null,
      "metadata": {
        "id": "vqxxQ6Es229J",
        "colab": {
          "base_uri": "https://localhost:8080/",
          "height": 1000
        },
        "outputId": "2013b8a3-d0b5-4ad0-f738-3f9fcccf7151"
      },
      "outputs": [
        {
          "output_type": "stream",
          "name": "stdout",
          "text": [
            "Collecting roboflow\n",
            "  Downloading roboflow-1.1.0-py3-none-any.whl (57 kB)\n",
            "\u001b[2K     \u001b[90m━━━━━━━━━━━━━━━━━━━━━━━━━━━━━━━━━━━━━━━━\u001b[0m \u001b[32m57.0/57.0 kB\u001b[0m \u001b[31m2.5 MB/s\u001b[0m eta \u001b[36m0:00:00\u001b[0m\n",
            "\u001b[?25hCollecting certifi==2022.12.7 (from roboflow)\n",
            "  Downloading certifi-2022.12.7-py3-none-any.whl (155 kB)\n",
            "\u001b[2K     \u001b[90m━━━━━━━━━━━━━━━━━━━━━━━━━━━━━━━━━━━━━━\u001b[0m \u001b[32m155.3/155.3 kB\u001b[0m \u001b[31m10.3 MB/s\u001b[0m eta \u001b[36m0:00:00\u001b[0m\n",
            "\u001b[?25hRequirement already satisfied: chardet==4.0.0 in /usr/local/lib/python3.10/dist-packages (from roboflow) (4.0.0)\n",
            "Collecting cycler==0.10.0 (from roboflow)\n",
            "  Downloading cycler-0.10.0-py2.py3-none-any.whl (6.5 kB)\n",
            "Collecting idna==2.10 (from roboflow)\n",
            "  Downloading idna-2.10-py2.py3-none-any.whl (58 kB)\n",
            "\u001b[2K     \u001b[90m━━━━━━━━━━━━━━━━━━━━━━━━━━━━━━━━━━━━━━━━\u001b[0m \u001b[32m58.8/58.8 kB\u001b[0m \u001b[31m6.5 MB/s\u001b[0m eta \u001b[36m0:00:00\u001b[0m\n",
            "\u001b[?25hRequirement already satisfied: kiwisolver>=1.3.1 in /usr/local/lib/python3.10/dist-packages (from roboflow) (1.4.4)\n",
            "Requirement already satisfied: matplotlib in /usr/local/lib/python3.10/dist-packages (from roboflow) (3.7.1)\n",
            "Requirement already satisfied: numpy>=1.18.5 in /usr/local/lib/python3.10/dist-packages (from roboflow) (1.25.0)\n",
            "Requirement already satisfied: opencv-python>=4.1.2 in /usr/local/lib/python3.10/dist-packages (from roboflow) (4.7.0.72)\n",
            "Requirement already satisfied: Pillow>=7.1.2 in /usr/local/lib/python3.10/dist-packages (from roboflow) (8.4.0)\n",
            "Collecting pyparsing==2.4.7 (from roboflow)\n",
            "  Downloading pyparsing-2.4.7-py2.py3-none-any.whl (67 kB)\n",
            "\u001b[2K     \u001b[90m━━━━━━━━━━━━━━━━━━━━━━━━━━━━━━━━━━━━━━━━\u001b[0m \u001b[32m67.8/67.8 kB\u001b[0m \u001b[31m7.0 MB/s\u001b[0m eta \u001b[36m0:00:00\u001b[0m\n",
            "\u001b[?25hRequirement already satisfied: python-dateutil in /usr/local/lib/python3.10/dist-packages (from roboflow) (2.8.2)\n",
            "Collecting python-dotenv (from roboflow)\n",
            "  Downloading python_dotenv-1.0.0-py3-none-any.whl (19 kB)\n",
            "Requirement already satisfied: requests in /usr/local/lib/python3.10/dist-packages (from roboflow) (2.27.1)\n",
            "Requirement already satisfied: six in /usr/local/lib/python3.10/dist-packages (from roboflow) (1.16.0)\n",
            "Collecting supervision (from roboflow)\n",
            "  Downloading supervision-0.11.1-py3-none-any.whl (55 kB)\n",
            "\u001b[2K     \u001b[90m━━━━━━━━━━━━━━━━━━━━━━━━━━━━━━━━━━━━━━━━\u001b[0m \u001b[32m55.6/55.6 kB\u001b[0m \u001b[31m5.2 MB/s\u001b[0m eta \u001b[36m0:00:00\u001b[0m\n",
            "\u001b[?25hRequirement already satisfied: urllib3>=1.26.6 in /usr/local/lib/python3.10/dist-packages (from roboflow) (1.26.16)\n",
            "Collecting wget (from roboflow)\n",
            "  Downloading wget-3.2.zip (10 kB)\n",
            "  Preparing metadata (setup.py) ... \u001b[?25l\u001b[?25hdone\n",
            "Requirement already satisfied: tqdm>=4.41.0 in /usr/local/lib/python3.10/dist-packages (from roboflow) (4.65.0)\n",
            "Requirement already satisfied: PyYAML>=5.3.1 in /usr/local/lib/python3.10/dist-packages (from roboflow) (6.0)\n",
            "Collecting requests-toolbelt (from roboflow)\n",
            "  Downloading requests_toolbelt-1.0.0-py2.py3-none-any.whl (54 kB)\n",
            "\u001b[2K     \u001b[90m━━━━━━━━━━━━━━━━━━━━━━━━━━━━━━━━━━━━━━━━\u001b[0m \u001b[32m54.5/54.5 kB\u001b[0m \u001b[31m6.2 MB/s\u001b[0m eta \u001b[36m0:00:00\u001b[0m\n",
            "\u001b[?25hRequirement already satisfied: contourpy>=1.0.1 in /usr/local/lib/python3.10/dist-packages (from matplotlib->roboflow) (1.1.0)\n",
            "Requirement already satisfied: fonttools>=4.22.0 in /usr/local/lib/python3.10/dist-packages (from matplotlib->roboflow) (4.40.0)\n",
            "Requirement already satisfied: packaging>=20.0 in /usr/local/lib/python3.10/dist-packages (from matplotlib->roboflow) (23.1)\n",
            "Requirement already satisfied: charset-normalizer~=2.0.0 in /usr/local/lib/python3.10/dist-packages (from requests->roboflow) (2.0.12)\n",
            "Building wheels for collected packages: wget\n",
            "  Building wheel for wget (setup.py) ... \u001b[?25l\u001b[?25hdone\n",
            "  Created wheel for wget: filename=wget-3.2-py3-none-any.whl size=9657 sha256=a3b82c839a3f13e402cade5814c60a4d6a72b5d301c95a0b5158ca090872a86e\n",
            "  Stored in directory: /root/.cache/pip/wheels/8b/f1/7f/5c94f0a7a505ca1c81cd1d9208ae2064675d97582078e6c769\n",
            "Successfully built wget\n",
            "Installing collected packages: wget, python-dotenv, pyparsing, idna, cycler, certifi, supervision, requests-toolbelt, roboflow\n",
            "  Attempting uninstall: pyparsing\n",
            "    Found existing installation: pyparsing 3.1.0\n",
            "    Uninstalling pyparsing-3.1.0:\n",
            "      Successfully uninstalled pyparsing-3.1.0\n",
            "  Attempting uninstall: idna\n",
            "    Found existing installation: idna 3.4\n",
            "    Uninstalling idna-3.4:\n",
            "      Successfully uninstalled idna-3.4\n",
            "  Attempting uninstall: cycler\n",
            "    Found existing installation: cycler 0.11.0\n",
            "    Uninstalling cycler-0.11.0:\n",
            "      Successfully uninstalled cycler-0.11.0\n",
            "  Attempting uninstall: certifi\n",
            "    Found existing installation: certifi 2023.5.7\n",
            "    Uninstalling certifi-2023.5.7:\n",
            "      Successfully uninstalled certifi-2023.5.7\n",
            "\u001b[31mERROR: pip's dependency resolver does not currently take into account all the packages that are installed. This behaviour is the source of the following dependency conflicts.\n",
            "tensorflow 2.12.0 requires numpy<1.24,>=1.22, but you have numpy 1.25.0 which is incompatible.\u001b[0m\u001b[31m\n",
            "\u001b[0mSuccessfully installed certifi-2022.12.7 cycler-0.10.0 idna-2.10 pyparsing-2.4.7 python-dotenv-1.0.0 requests-toolbelt-1.0.0 roboflow-1.1.0 supervision-0.11.1 wget-3.2\n"
          ]
        },
        {
          "output_type": "display_data",
          "data": {
            "application/vnd.colab-display-data+json": {
              "pip_warning": {
                "packages": [
                  "certifi",
                  "cycler",
                  "pyparsing"
                ]
              }
            }
          },
          "metadata": {}
        },
        {
          "output_type": "stream",
          "name": "stdout",
          "text": [
            "Collecting ultralytics\n",
            "  Downloading ultralytics-8.0.131-py3-none-any.whl (626 kB)\n",
            "\u001b[2K     \u001b[90m━━━━━━━━━━━━━━━━━━━━━━━━━━━━━━━━━━━━━━\u001b[0m \u001b[32m626.9/626.9 kB\u001b[0m \u001b[31m10.4 MB/s\u001b[0m eta \u001b[36m0:00:00\u001b[0m\n",
            "\u001b[?25hRequirement already satisfied: matplotlib>=3.2.2 in /usr/local/lib/python3.10/dist-packages (from ultralytics) (3.7.1)\n",
            "Requirement already satisfied: opencv-python>=4.6.0 in /usr/local/lib/python3.10/dist-packages (from ultralytics) (4.7.0.72)\n",
            "Requirement already satisfied: Pillow>=7.1.2 in /usr/local/lib/python3.10/dist-packages (from ultralytics) (8.4.0)\n",
            "Requirement already satisfied: PyYAML>=5.3.1 in /usr/local/lib/python3.10/dist-packages (from ultralytics) (6.0)\n",
            "Requirement already satisfied: requests>=2.23.0 in /usr/local/lib/python3.10/dist-packages (from ultralytics) (2.27.1)\n",
            "Requirement already satisfied: scipy>=1.4.1 in /usr/local/lib/python3.10/dist-packages (from ultralytics) (1.11.1)\n",
            "Requirement already satisfied: torch>=1.7.0 in /usr/local/lib/python3.10/dist-packages (from ultralytics) (2.0.1+cu118)\n",
            "Requirement already satisfied: torchvision>=0.8.1 in /usr/local/lib/python3.10/dist-packages (from ultralytics) (0.15.2+cu118)\n",
            "Requirement already satisfied: tqdm>=4.64.0 in /usr/local/lib/python3.10/dist-packages (from ultralytics) (4.65.0)\n",
            "Requirement already satisfied: pandas>=1.1.4 in /usr/local/lib/python3.10/dist-packages (from ultralytics) (1.5.3)\n",
            "Requirement already satisfied: seaborn>=0.11.0 in /usr/local/lib/python3.10/dist-packages (from ultralytics) (0.12.2)\n",
            "Requirement already satisfied: psutil in /usr/local/lib/python3.10/dist-packages (from ultralytics) (5.9.5)\n",
            "Requirement already satisfied: contourpy>=1.0.1 in /usr/local/lib/python3.10/dist-packages (from matplotlib>=3.2.2->ultralytics) (1.1.0)\n",
            "Requirement already satisfied: cycler>=0.10 in /usr/local/lib/python3.10/dist-packages (from matplotlib>=3.2.2->ultralytics) (0.10.0)\n",
            "Requirement already satisfied: fonttools>=4.22.0 in /usr/local/lib/python3.10/dist-packages (from matplotlib>=3.2.2->ultralytics) (4.40.0)\n",
            "Requirement already satisfied: kiwisolver>=1.0.1 in /usr/local/lib/python3.10/dist-packages (from matplotlib>=3.2.2->ultralytics) (1.4.4)\n",
            "Requirement already satisfied: numpy>=1.20 in /usr/local/lib/python3.10/dist-packages (from matplotlib>=3.2.2->ultralytics) (1.25.0)\n",
            "Requirement already satisfied: packaging>=20.0 in /usr/local/lib/python3.10/dist-packages (from matplotlib>=3.2.2->ultralytics) (23.1)\n",
            "Requirement already satisfied: pyparsing>=2.3.1 in /usr/local/lib/python3.10/dist-packages (from matplotlib>=3.2.2->ultralytics) (2.4.7)\n",
            "Requirement already satisfied: python-dateutil>=2.7 in /usr/local/lib/python3.10/dist-packages (from matplotlib>=3.2.2->ultralytics) (2.8.2)\n",
            "Requirement already satisfied: pytz>=2020.1 in /usr/local/lib/python3.10/dist-packages (from pandas>=1.1.4->ultralytics) (2022.7.1)\n",
            "Requirement already satisfied: urllib3<1.27,>=1.21.1 in /usr/local/lib/python3.10/dist-packages (from requests>=2.23.0->ultralytics) (1.26.16)\n",
            "Requirement already satisfied: certifi>=2017.4.17 in /usr/local/lib/python3.10/dist-packages (from requests>=2.23.0->ultralytics) (2022.12.7)\n",
            "Requirement already satisfied: charset-normalizer~=2.0.0 in /usr/local/lib/python3.10/dist-packages (from requests>=2.23.0->ultralytics) (2.0.12)\n",
            "Requirement already satisfied: idna<4,>=2.5 in /usr/local/lib/python3.10/dist-packages (from requests>=2.23.0->ultralytics) (2.10)\n",
            "Requirement already satisfied: filelock in /usr/local/lib/python3.10/dist-packages (from torch>=1.7.0->ultralytics) (3.12.2)\n",
            "Requirement already satisfied: typing-extensions in /usr/local/lib/python3.10/dist-packages (from torch>=1.7.0->ultralytics) (4.7.1)\n",
            "Requirement already satisfied: sympy in /usr/local/lib/python3.10/dist-packages (from torch>=1.7.0->ultralytics) (1.11.1)\n",
            "Requirement already satisfied: networkx in /usr/local/lib/python3.10/dist-packages (from torch>=1.7.0->ultralytics) (3.1)\n",
            "Requirement already satisfied: jinja2 in /usr/local/lib/python3.10/dist-packages (from torch>=1.7.0->ultralytics) (3.1.2)\n",
            "Requirement already satisfied: triton==2.0.0 in /usr/local/lib/python3.10/dist-packages (from torch>=1.7.0->ultralytics) (2.0.0)\n",
            "Requirement already satisfied: cmake in /usr/local/lib/python3.10/dist-packages (from triton==2.0.0->torch>=1.7.0->ultralytics) (3.25.2)\n",
            "Requirement already satisfied: lit in /usr/local/lib/python3.10/dist-packages (from triton==2.0.0->torch>=1.7.0->ultralytics) (16.0.6)\n",
            "Requirement already satisfied: six in /usr/local/lib/python3.10/dist-packages (from cycler>=0.10->matplotlib>=3.2.2->ultralytics) (1.16.0)\n",
            "Requirement already satisfied: MarkupSafe>=2.0 in /usr/local/lib/python3.10/dist-packages (from jinja2->torch>=1.7.0->ultralytics) (2.1.3)\n",
            "Requirement already satisfied: mpmath>=0.19 in /usr/local/lib/python3.10/dist-packages (from sympy->torch>=1.7.0->ultralytics) (1.3.0)\n",
            "Installing collected packages: ultralytics\n",
            "Successfully installed ultralytics-8.0.131\n"
          ]
        }
      ],
      "source": [
        "!pip install roboflow\n",
        "!pip install ultralytics\n",
        "# !pip install numpy\n",
        "# !pip install lap\n",
        "# !pip install cv2\n",
        "# !pip install os\n",
        "# !pip install pickle\n",
        "from roboflow import Roboflow\n",
        "from ultralytics import YOLO\n",
        "import matplotlib.pyplot as plt\n",
        "import cv2\n",
        "import os\n",
        "import numpy as np\n",
        "import pickle"
      ]
    },
    {
      "cell_type": "markdown",
      "metadata": {
        "id": "f_yJbiC6KlRs"
      },
      "source": [
        "# vehicle Class"
      ]
    },
    {
      "cell_type": "code",
      "execution_count": null,
      "metadata": {
        "id": "_e1_Df252pf8"
      },
      "outputs": [],
      "source": [
        "class VehicleIdentification:\n",
        "  def __init__(self, type, damage, plateNumber,color):\n",
        "    self.type = type\n",
        "    self.damage = damage\n",
        "    self.plateNumber = plateNumber\n",
        "    self.color = color\n",
        " ## return --> 1.type  2. All IDs 3. unique id foor each vehicle 4. cropped image for each vehicle\n",
        "  def type_model(self,video_path): ## video_path : the main viedo path\n",
        "    ## create lists\n",
        "    trackerID = [] ## save all redundant ids\n",
        "    types=[] ## save classes id\n",
        "    cropped_images = [] ## save rdundant cropped images\n",
        "    unique_ID = [] ## save unique id for each vehicle\n",
        "    unique_classID = [] ## save unique type for each vehicle\n",
        "    unique_croppedImgs = [] ## save unique image for each vehicle in the video\n",
        "\n",
        "    ## use pre trained yolov8 tracking model\n",
        "    model = YOLO('yolov8n.pt')\n",
        "    results = model.track(source = video_path , conf = 0.5 , show=True , classes = [2,3,4,6,8],verbose = False,save =True)\n",
        "\n",
        "    ## extract cropped images form model results\n",
        "    for i, r in enumerate(results):\n",
        "      for index, box in enumerate(r.boxes):\n",
        "          vehicleID = box.id\n",
        "          Data = box.data.cpu().numpy()\n",
        "          ## Data[0][2] >= 1900\n",
        "          if (Data[0][2] >= 1900 or Data[0][2] >= 900 ):\n",
        "            ID = box.id\n",
        "            classID = box.cls\n",
        "            trackerID.append(ID)\n",
        "            types.append(classID)\n",
        "            ## crop part\n",
        "            image = r.orig_img\n",
        "            xmin = int(Data[0][0])\n",
        "            ymin = int(Data[0][1])\n",
        "            xmax = int(Data[0][2])\n",
        "            ymax = int(Data[0][3])\n",
        "            cropped_images.append(image[ymin: ymax , xmin:xmax ])\n",
        "\n",
        "    ## extract unique cropped images\n",
        "    for i in range(len(trackerID)):\n",
        "      if(trackerID[i] not in unique_ID):\n",
        "        if(trackerID[i] is not None):\n",
        "          unique_ID.append(trackerID[i])\n",
        "          unique_classID.append(types[i])\n",
        "          img = cropped_images[i]\n",
        "          RGB_cropped =  cv2.cvtColor(img, cv2.COLOR_BGR2RGB)\n",
        "          unique_croppedImgs.append(RGB_cropped)\n",
        "\n",
        "    for i, item in enumerate(unique_classID):\n",
        "      if unique_classID[i] == 2:\n",
        "        unique_classID[i] = \"car\"\n",
        "      if unique_classID[i] == 3:\n",
        "        unique_classID[i] = \"motorcycle\"\n",
        "      if unique_classID[i] == 4:\n",
        "        unique_classID[i] = \"bus\"\n",
        "      if unique_classID[i] == 6:\n",
        "        unique_classID[i] = \"train\"\n",
        "      if unique_classID[i] == 8:\n",
        "        unique_classID[i] = \"truck\"\n",
        "\n",
        "    return unique_classID, trackerID,unique_ID ,unique_croppedImgs\n",
        "\n",
        "\n",
        "  ## save the cropped images to a dirctory\n",
        "  def save_img_to_dir(self,dir_path,listOfImages): ## dir_path : directory will be created to save the images in it , listOfImages: cropped images from type model\n",
        "    os.makedirs(dir_path)\n",
        "    i = 1\n",
        "    for img in listOfImages:\n",
        "      img = cv2.cvtColor(img,cv2.COLOR_BGR2RGB)\n",
        "      cv2.imwrite(dir_path+\"/img\"+str(i)+\".jpg\",img)\n",
        "      i = i+1\n",
        "\n",
        "  ## return the correct sequence of image paths\n",
        "  def path_to_images(self,numOfImgs,dir): ## numOfImgs : number of images extracted from type model , dir : the directory that the images has been saved in\n",
        "    paths = []\n",
        "    for i in range(numOfImgs):\n",
        "      paths.append(dir+\"/img\"+str(i+1)+\".jpg\")\n",
        "    return paths\n",
        "\n",
        "\n",
        "  # return the damage status for each vehicle (list)\n",
        "  def damage_model(self,pathOfImgs): ## pathOfImgs : the directory that the images has been saved in\n",
        "    predections = []\n",
        "    imgs_path = []\n",
        "    jsonResults = []\n",
        "    damage_result=[]\n",
        "\n",
        "    rf = Roboflow(api_key=\"bfrzVdmWOf1qUeu5K6eo\")\n",
        "    project = rf.workspace().project(\"damage-type-nogzj\")\n",
        "    model = project.version(2).model\n",
        "\n",
        "    for img in pathOfImgs:\n",
        "      jsonResults.append(model.predict(img).json())\n",
        "\n",
        "    for i in range(len(jsonResults)):\n",
        "      list = jsonResults[i]['predictions']\n",
        "      if len(list) == 0 :\n",
        "        damage_result.append(\"no damage\")\n",
        "      else:\n",
        "        damage_result.append(jsonResults[i]['predictions'][0][\"class\"])\n",
        "\n",
        "    return damage_result\n",
        "\n",
        "  ## detect and exctract plate number from each vehicle image (list)\n",
        "  def plateNumber_model1(self,numOfImages, model_weight):\n",
        "    # Predict on the image file\n",
        "    result = []\n",
        "\n",
        "    model = YOLO(model_weight)\n",
        "    for img in numOfImages:\n",
        "      result.append(model.predict(img, imgsz=320, conf=0.5, save_crop=True,verbose = True))\n",
        "\n",
        "    return result\n",
        "\n",
        "  ## use the plate number results from the previous model to detect letters and numbers of the plate (2D list)\n",
        "  ## each row represents a plate number\n",
        "  def plateNumber_model2(self,folder_path):\n",
        "      image_results = []\n",
        "      plateNumbers =[]\n",
        "      class_mapping = {\n",
        "          '0': 'أ','1': 'ب','2': 'ت','3': 'د','4': 'ر','5': 'س',\n",
        "          '6': 'ص','7': 'ط', '8': 'ع', '9': 'ف','10': 'ق',\n",
        "          '11': 'ل','12': 'م','13': 'ن','14': 'ه','15': 'و',\n",
        "          '16': 'ى','18': '١','19': '٢','20': '٣','21': '٤',\n",
        "          '22': '٥','23': '٦','24': '٧','25': '٨','26': '٩'\n",
        "      }\n",
        "\n",
        "      rf = Roboflow(api_key=\"HQmVPGlDqljH8mic5I9b\")\n",
        "      project = rf.workspace().project(\"char3\")\n",
        "      model = project.version(1).model\n",
        "\n",
        "      for img in  os.listdir(folder_path):\n",
        "          img = folder_path +\"/\"+ img\n",
        "          result = model.predict(img, confidence=70, overlap=30).json()\n",
        "          # Sort the predictions based on 'x' value\n",
        "          sorted_predictions = sorted(result['predictions'], key=lambda x: x['x'])\n",
        "          # Store image result in a dictionary\n",
        "          image_result = {\n",
        "              'image': img,\n",
        "              'predictions': []\n",
        "          }\n",
        "          # Add each prediction to the image result\n",
        "          for prediction in sorted_predictions:\n",
        "              class_value = prediction['class']\n",
        "              replaced_class = class_mapping.get(class_value, class_value)\n",
        "              image_result['predictions'].append(replaced_class)\n",
        "\n",
        "          # Add the image result to the list\n",
        "          image_results.append(image_result)\n",
        "\n",
        "\n",
        "        # Add the image result to the list\n",
        "      n = len(image_results)\n",
        "      for i in range(n):\n",
        "          x = image_results[i][\"predictions\"]\n",
        "          x.reverse()\n",
        "          plateNumbers.append(x)\n",
        "\n",
        "      return image_results,plateNumbers\n",
        "\n",
        "  ## return the colors of each vehicles (list)\n",
        "  ## cropx, and cropy : size of the cropped part from the vehicle image\n",
        "  def color_model(self,listOfImages,cropx,cropy,path_to_imgs,path_to_weights):  ## path_to_weights : weights of color model, path_to_imgs: paths returned from path to images fn\n",
        "    cropped_imgs = []\n",
        "    rgb2 = []\n",
        "    for img in listOfImages:\n",
        "       y,x, channels = img.shape\n",
        "       startx = x//2-(cropx//2)\n",
        "       starty = y//2-(cropy//2)\n",
        "       crop_img = img[starty:starty+cropy,startx:startx+cropx]\n",
        "       crop_img_RGB = cv2.cvtColor(crop_img,cv2.COLOR_BGR2RGB)\n",
        "       cropped_imgs.append(crop_img_RGB)\n",
        "       rgb2.append(crop_img_RGB[0][0])\n",
        "\n",
        "    np_rgb2 = np.array(rgb2)\n",
        "    model = pickle.load(open(path_to_weights, 'rb'))\n",
        "    predections = model.predict(np_rgb2)\n",
        "    cropped_img_np = np.array(cropped_imgs)\n",
        "\n",
        "    return predections,cropped_img_np\n",
        "\n"
      ]
    },
    {
      "cell_type": "code",
      "execution_count": null,
      "metadata": {
        "id": "Xl9ZqDu1Mvo9"
      },
      "outputs": [],
      "source": [
        "type = []\n",
        "damage = []\n",
        "plateNumber = []\n",
        "color = []\n",
        "vehicle = VehicleIdentification(type,damage,plateNumber,color)"
      ]
    },
    {
      "cell_type": "markdown",
      "metadata": {
        "id": "QCy9Me3kre04"
      },
      "source": [
        "## some paths that are needed"
      ]
    },
    {
      "cell_type": "code",
      "execution_count": null,
      "metadata": {
        "id": "TRLf7qzAh-FN"
      },
      "outputs": [],
      "source": [
        "## for type model\n",
        "video_path = \"/content/drive/MyDrive/v21 - Trim1 - Trim.mp4\"\n",
        "pathOfImgs = \"/content/cropped\"\n",
        "## for color model\n",
        "colorWeights = \"/content/drive/MyDrive/knnpickle_file\"\n",
        "## for plate number model\n",
        "path = \"/content/cropped\"\n",
        "plateNumber_weights = \"/content/drive/MyDrive/crop_plateNumber_yolov8.pt\"\n",
        "pathTo_plateNum = \"/content/runs/detect/predict/crops/licence\""
      ]
    },
    {
      "cell_type": "markdown",
      "metadata": {
        "id": "y4Tls08drcTy"
      },
      "source": [
        "## type model"
      ]
    },
    {
      "cell_type": "code",
      "execution_count": null,
      "metadata": {
        "colab": {
          "base_uri": "https://localhost:8080/"
        },
        "id": "A9lzskb_38uY",
        "outputId": "c68d51be-f85e-4812-ea2a-f3aeb942b660"
      },
      "outputs": [
        {
          "output_type": "stream",
          "name": "stderr",
          "text": [
            "Downloading https://github.com/ultralytics/assets/releases/download/v0.0.0/yolov8n.pt to yolov8n.pt...\n",
            "100%|██████████| 6.23M/6.23M [00:00<00:00, 84.6MB/s]\n",
            "\u001b[31m\u001b[1mrequirements:\u001b[0m Ultralytics requirement ['lapx>=0.5.2'] not found, attempting AutoUpdate...\n",
            "Collecting lapx>=0.5.2\n",
            "  Downloading lapx-0.5.2.post1.tar.gz (1.5 MB)\n",
            "     ━━━━━━━━━━━━━━━━━━━━━━━━━━━━━━━━━━━━━━━━ 1.5/1.5 MB 26.6 MB/s eta 0:00:00\n",
            "  Installing build dependencies: started\n",
            "  Installing build dependencies: finished with status 'done'\n",
            "  Getting requirements to build wheel: started\n",
            "  Getting requirements to build wheel: finished with status 'done'\n",
            "  Installing backend dependencies: started\n",
            "  Installing backend dependencies: finished with status 'done'\n",
            "  Preparing metadata (pyproject.toml): started\n",
            "  Preparing metadata (pyproject.toml): finished with status 'done'\n",
            "Requirement already satisfied: Cython>=0.29.32 in /usr/local/lib/python3.10/dist-packages (from lapx>=0.5.2) (0.29.35)\n",
            "Requirement already satisfied: numpy>=1.21.6 in /usr/local/lib/python3.10/dist-packages (from lapx>=0.5.2) (1.25.0)\n",
            "Building wheels for collected packages: lapx\n",
            "  Building wheel for lapx (pyproject.toml): started\n",
            "  Building wheel for lapx (pyproject.toml): finished with status 'done'\n",
            "  Created wheel for lapx: filename=lapx-0.5.2.post1-cp310-cp310-linux_x86_64.whl size=1639468 sha256=cc968652820e9cfb75eb1a2fdb1fda1e3f0793b0ecabb9adaef5467e2352ec99\n",
            "  Stored in directory: /tmp/pip-ephem-wheel-cache-kc91efd0/wheels/5c/6c/38/1953389265555a11c5abeae37f534a3568d986438a3132bf02\n",
            "Successfully built lapx\n",
            "Installing collected packages: lapx\n",
            "Successfully installed lapx-0.5.2.post1\n",
            "\n",
            "\u001b[31m\u001b[1mrequirements:\u001b[0m AutoUpdate success ✅ 50.0s, installed 1 package: ['lapx>=0.5.2']\n",
            "\u001b[31m\u001b[1mrequirements:\u001b[0m ⚠️ \u001b[1mRestart runtime or rerun command for updates to take effect\u001b[0m\n",
            "\n",
            "WARNING ⚠️ Environment does not support cv2.imshow() or PIL Image.show()\n",
            "\n",
            "\n",
            "    WARNING ⚠️ stream/video/webcam/dir predict source will accumulate results in RAM unless `stream=True` is passed,\n",
            "    causing potential out-of-memory errors for large sources or long-running streams/videos.\n",
            "\n",
            "    Usage:\n",
            "        results = model(source=..., stream=True)  # generator of Results objects\n",
            "        for r in results:\n",
            "            boxes = r.boxes  # Boxes object for bbox outputs\n",
            "            masks = r.masks  # Masks object for segment masks outputs\n",
            "            probs = r.probs  # Class probabilities for classification outputs\n",
            "\n",
            "Results saved to \u001b[1mruns/detect/track\u001b[0m\n"
          ]
        }
      ],
      "source": [
        "types,AllIDs,UniqueID,croppedImages=vehicle.type_model(video_path) ## type model"
      ]
    },
    {
      "cell_type": "markdown",
      "metadata": {
        "id": "EHkRm3Vgrqf5"
      },
      "source": [
        "## save the cropped images to a folder"
      ]
    },
    {
      "cell_type": "code",
      "execution_count": null,
      "metadata": {
        "id": "PLG4JW_drpq-"
      },
      "outputs": [],
      "source": [
        "n = len(croppedImages) ## number of cropped images(vehicle)\n",
        "vehicle.save_img_to_dir(pathOfImgs,croppedImages) ## save images of the vehicles\n",
        "paths_croppedImgs = vehicle.path_to_images(n,pathOfImgs) ## get the path of the images saved"
      ]
    },
    {
      "cell_type": "markdown",
      "metadata": {
        "id": "y0QtuUvUrV0I"
      },
      "source": [
        "## speed calculation\n"
      ]
    },
    {
      "cell_type": "code",
      "execution_count": null,
      "metadata": {
        "id": "XY0wfWFJDVsU"
      },
      "outputs": [],
      "source": [
        "videoCapture = cv2.VideoCapture(video_path)\n",
        "fps = videoCapture.get(cv2.CAP_PROP_FPS)\n",
        "fps=round(fps)\n",
        "dist = 0.02\n",
        "speed = []\n",
        "NumOfFrames = []\n",
        "counter = 0\n",
        "for id in UniqueID:\n",
        "  for ids in AllIDs:\n",
        "    if (id == ids) :\n",
        "        counter = counter + 1\n",
        "  NumOfFrames.append(counter)\n",
        "\n",
        "for i in range(len(NumOfFrames)):\n",
        "  time = (NumOfFrames[i]/fps)/(60*60)\n",
        "  speed.append(round(dist/time))"
      ]
    },
    {
      "cell_type": "markdown",
      "metadata": {
        "id": "hMAHM0fgrxQy"
      },
      "source": [
        "## make sure the images are RGB"
      ]
    },
    {
      "cell_type": "code",
      "execution_count": null,
      "metadata": {
        "id": "NLwkUb4rKsmx"
      },
      "outputs": [],
      "source": [
        "RGB = []\n",
        "for img in croppedImages:\n",
        "  img = cv2.cvtColor(img,cv2.COLOR_BGR2RGB)\n",
        "  RGB.append(img)"
      ]
    },
    {
      "cell_type": "markdown",
      "metadata": {
        "id": "9KbZSQRSr1uv"
      },
      "source": [
        "## damage model"
      ]
    },
    {
      "cell_type": "code",
      "execution_count": null,
      "metadata": {
        "colab": {
          "base_uri": "https://localhost:8080/"
        },
        "id": "Rj4jHyafa_RO",
        "outputId": "0a709f20-1e30-4ff5-dbd5-899322d1579a"
      },
      "outputs": [
        {
          "output_type": "stream",
          "name": "stdout",
          "text": [
            "loading Roboflow workspace...\n",
            "loading Roboflow project...\n"
          ]
        }
      ],
      "source": [
        "damageCheck = vehicle.damage_model(paths_croppedImgs) ## damage model"
      ]
    },
    {
      "cell_type": "markdown",
      "metadata": {
        "id": "Lmnb6GZ4r-Kw"
      },
      "source": [
        "## color model"
      ]
    },
    {
      "cell_type": "code",
      "execution_count": null,
      "metadata": {
        "colab": {
          "base_uri": "https://localhost:8080/"
        },
        "id": "2Ber1VQer6aJ",
        "outputId": "570f796a-40ef-4af5-88bb-087751e4e860"
      },
      "outputs": [
        {
          "output_type": "stream",
          "name": "stderr",
          "text": [
            "X does not have valid feature names, but KNeighborsClassifier was fitted with feature names\n"
          ]
        }
      ],
      "source": [
        "colors,img =vehicle.color_model(RGB,5,5,pathOfImgs,colorWeights) ## color model"
      ]
    },
    {
      "cell_type": "markdown",
      "metadata": {
        "id": "5UsgmhIpsBBp"
      },
      "source": [
        "## plate number models"
      ]
    },
    {
      "cell_type": "code",
      "execution_count": null,
      "metadata": {
        "id": "_FpG0F63FHZ0",
        "colab": {
          "base_uri": "https://localhost:8080/"
        },
        "outputId": "e5b5ea01-68c8-46e8-a30d-56e2dd27f5d6"
      },
      "outputs": [
        {
          "output_type": "stream",
          "name": "stderr",
          "text": [
            "\n",
            "image 1/1 /content/cropped/img1.jpg: 256x320 1 licence, 334.4ms\n",
            "Speed: 1.7ms preprocess, 334.4ms inference, 1.3ms postprocess per image at shape (1, 3, 256, 320)\n",
            "Results saved to \u001b[1mruns/detect/predict\u001b[0m\n",
            "\n",
            "image 1/1 /content/cropped/img2.jpg: 256x320 1 licence, 227.5ms\n",
            "Speed: 1.7ms preprocess, 227.5ms inference, 1.3ms postprocess per image at shape (1, 3, 256, 320)\n",
            "Results saved to \u001b[1mruns/detect/predict\u001b[0m\n",
            "\n",
            "image 1/1 /content/cropped/img3.jpg: 288x320 1 licence, 274.3ms\n",
            "Speed: 1.6ms preprocess, 274.3ms inference, 1.1ms postprocess per image at shape (1, 3, 288, 320)\n",
            "Results saved to \u001b[1mruns/detect/predict\u001b[0m\n",
            "\n",
            "image 1/1 /content/cropped/img4.jpg: 256x320 1 licence, 314.8ms\n",
            "Speed: 1.7ms preprocess, 314.8ms inference, 1.2ms postprocess per image at shape (1, 3, 256, 320)\n",
            "Results saved to \u001b[1mruns/detect/predict\u001b[0m\n"
          ]
        },
        {
          "output_type": "stream",
          "name": "stdout",
          "text": [
            "loading Roboflow workspace...\n",
            "loading Roboflow project...\n"
          ]
        }
      ],
      "source": [
        "paths_croppedImgs_model1 = vehicle.path_to_images(n,path) ## get the path of the images saved\n",
        "\n",
        "result = vehicle.plateNumber_model1(paths_croppedImgs_model1,plateNumber_weights) ## plate number model\n",
        "res,plateNumbers = vehicle.plateNumber_model2(pathTo_plateNum) ## return plate number content"
      ]
    },
    {
      "cell_type": "code",
      "source": [
        "plates = []\n",
        "plates.append(plateNumbers[0])\n",
        "plates.append(plateNumbers[2])\n",
        "plates.append(plateNumbers[1])\n",
        "plates.append(plateNumbers[3])"
      ],
      "metadata": {
        "id": "3fCcT1iy_3Wp"
      },
      "execution_count": null,
      "outputs": []
    },
    {
      "cell_type": "markdown",
      "metadata": {
        "id": "2Bp3Wf9usDwU"
      },
      "source": [
        "## final results"
      ]
    },
    {
      "cell_type": "code",
      "execution_count": null,
      "metadata": {
        "colab": {
          "base_uri": "https://localhost:8080/"
        },
        "id": "Hv-QX8KmqK7O",
        "outputId": "fad699da-f553-45da-ea03-b34dab2e295d"
      },
      "outputs": [
        {
          "output_type": "stream",
          "name": "stdout",
          "text": [
            "vehicle  1 :\n",
            "plate number:  ['ل', 'ل', '٤', '٩', '٢', '٩']\n",
            "type: car\n",
            "color:  white\n",
            "damage status:  scratch\n",
            "speed:  17 km/h\n",
            "----------------------------------\n",
            "vehicle  2 :\n",
            "plate number:  ['ب', 'ف', '١', '٢', '٤', '٣']\n",
            "type: car\n",
            "color:  grey\n",
            "damage status:  no damage\n",
            "speed:  7 km/h\n",
            "----------------------------------\n",
            "vehicle  3 :\n",
            "plate number:  ['ل', 'ف', 'ف', '٣', '٨', '٩']\n",
            "type: car\n",
            "color:  yellow\n",
            "damage status:  no damage\n",
            "speed:  4 km/h\n",
            "----------------------------------\n",
            "vehicle  4 :\n",
            "plate number:  ['ى', 'ع', 'ه', '١', '٦', '٦']\n",
            "type: car\n",
            "color:  white\n",
            "damage status:  no damage\n",
            "speed:  4 km/h\n",
            "----------------------------------\n"
          ]
        }
      ],
      "source": [
        "for i in range(len(UniqueID)):\n",
        "  print(\"vehicle \",i+1,\":\")\n",
        "  print(\"plate number: \", plates[i])\n",
        "  print(\"type: car\",)\n",
        "  print(\"color: \",colors[i])\n",
        "  print(\"damage status: \",damageCheck[i])\n",
        "  print(\"speed: \",speed[i],\"km/h\")\n",
        "  print(\"----------------------------------\")"
      ]
    }
  ],
  "metadata": {
    "accelerator": "TPU",
    "colab": {
      "provenance": [],
      "gpuType": "T4"
    },
    "kernelspec": {
      "display_name": "Python 3",
      "name": "python3"
    },
    "language_info": {
      "name": "python"
    }
  },
  "nbformat": 4,
  "nbformat_minor": 0
}